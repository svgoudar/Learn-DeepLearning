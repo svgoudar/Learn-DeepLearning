{
 "cells": [
  {
   "cell_type": "markdown",
   "id": "0503b2ef",
   "metadata": {},
   "source": [
    "```{contents}\n",
    "```\n",
    "## Simple RNN"
   ]
  },
  {
   "cell_type": "code",
   "execution_count": 1,
   "id": "b7cfbcfd",
   "metadata": {},
   "outputs": [],
   "source": [
    "import numpy as np\n",
    "import tensorflow as tf\n",
    "from tensorflow.keras.datasets import imdb\n",
    "from tensorflow.keras.models import Sequential\n",
    "from tensorflow.keras.layers import Embedding, SimpleRNN, Dense, Dropout\n",
    "from tensorflow.keras.preprocessing.sequence import pad_sequences\n",
    "from tensorflow.keras.optimizers import Adam\n",
    "from tensorflow.keras.callbacks import EarlyStopping\n",
    "from sklearn.model_selection import ParameterGrid\n"
   ]
  },
  {
   "cell_type": "code",
   "execution_count": 2,
   "id": "fdb6cd6a",
   "metadata": {},
   "outputs": [
    {
     "name": "stdout",
     "output_type": "stream",
     "text": [
      "Downloading data from https://storage.googleapis.com/tensorflow/tf-keras-datasets/imdb.npz\n",
      "\u001b[1m17464789/17464789\u001b[0m \u001b[32m━━━━━━━━━━━━━━━━━━━━\u001b[0m\u001b[37m\u001b[0m \u001b[1m4s\u001b[0m 0us/step\n"
     ]
    }
   ],
   "source": [
    "\n",
    "# Load IMDB dataset\n",
    "max_words = 10000     # vocabulary size\n",
    "maxlen = 200          # sequence length\n",
    "(X_train, y_train), (X_test, y_test) = imdb.load_data(num_words=max_words)\n"
   ]
  },
  {
   "cell_type": "code",
   "execution_count": 3,
   "id": "b3e07956",
   "metadata": {},
   "outputs": [],
   "source": [
    "\n",
    "# Pad sequences\n",
    "X_train = pad_sequences(X_train, maxlen=maxlen)\n",
    "X_test = pad_sequences(X_test, maxlen=maxlen)\n"
   ]
  },
  {
   "cell_type": "code",
   "execution_count": 4,
   "id": "e7d2af6f",
   "metadata": {},
   "outputs": [],
   "source": [
    "\n",
    "# Function to create RNN model\n",
    "def create_rnn_model(units=64, dropout_rate=0.2, learning_rate=0.001):\n",
    "    model = Sequential([\n",
    "        Embedding(max_words, 128, input_length=maxlen),\n",
    "        SimpleRNN(units, activation='tanh'),\n",
    "        Dropout(dropout_rate),\n",
    "        Dense(1, activation='sigmoid')\n",
    "    ])\n",
    "    optimizer = Adam(learning_rate=learning_rate)\n",
    "    model.compile(loss='binary_crossentropy', optimizer=optimizer, metrics=['accuracy'])\n",
    "    return model\n"
   ]
  },
  {
   "cell_type": "code",
   "execution_count": 5,
   "id": "9cb88916",
   "metadata": {},
   "outputs": [],
   "source": [
    "\n",
    "# Define parameter grid\n",
    "param_grid = {\n",
    "    'units': [32, 64],\n",
    "    'dropout_rate': [0.2, 0.4],\n",
    "    'learning_rate': [0.001, 0.0005]\n",
    "}\n",
    "\n",
    "best_acc = 0\n",
    "best_params = {}\n"
   ]
  },
  {
   "cell_type": "code",
   "execution_count": 6,
   "id": "87508770",
   "metadata": {},
   "outputs": [],
   "source": [
    "\n",
    "# Early stopping callback\n",
    "early_stop = EarlyStopping(\n",
    "    monitor='val_loss',\n",
    "    patience=2,            # stop if val_loss doesn’t improve for 2 epochs\n",
    "    restore_best_weights=True,\n",
    "    verbose=1\n",
    ")\n"
   ]
  },
  {
   "cell_type": "code",
   "execution_count": 7,
   "id": "39218103",
   "metadata": {},
   "outputs": [
    {
     "name": "stdout",
     "output_type": "stream",
     "text": [
      "Testing parameters: {'dropout_rate': 0.2, 'learning_rate': 0.001, 'units': 32}\n"
     ]
    },
    {
     "name": "stderr",
     "output_type": "stream",
     "text": [
      "C:\\Users\\sangouda\\AppData\\Roaming\\Python\\Python312\\site-packages\\keras\\src\\layers\\core\\embedding.py:97: UserWarning: Argument `input_length` is deprecated. Just remove it.\n",
      "  warnings.warn(\n"
     ]
    },
    {
     "name": "stdout",
     "output_type": "stream",
     "text": [
      "Epoch 5: early stopping\n",
      "Restoring model weights from the end of the best epoch: 3.\n",
      "Validation Accuracy: 0.7950\n",
      "Testing parameters: {'dropout_rate': 0.2, 'learning_rate': 0.001, 'units': 64}\n",
      "Epoch 5: early stopping\n",
      "Restoring model weights from the end of the best epoch: 3.\n",
      "Validation Accuracy: 0.6690\n",
      "Testing parameters: {'dropout_rate': 0.2, 'learning_rate': 0.0005, 'units': 32}\n",
      "Epoch 6: early stopping\n",
      "Restoring model weights from the end of the best epoch: 4.\n",
      "Validation Accuracy: 0.8050\n",
      "Testing parameters: {'dropout_rate': 0.2, 'learning_rate': 0.0005, 'units': 64}\n",
      "Epoch 6: early stopping\n",
      "Restoring model weights from the end of the best epoch: 4.\n",
      "Validation Accuracy: 0.6680\n",
      "Testing parameters: {'dropout_rate': 0.4, 'learning_rate': 0.001, 'units': 32}\n",
      "Epoch 7: early stopping\n",
      "Restoring model weights from the end of the best epoch: 5.\n",
      "Validation Accuracy: 0.7740\n",
      "Testing parameters: {'dropout_rate': 0.4, 'learning_rate': 0.001, 'units': 64}\n",
      "Epoch 4: early stopping\n",
      "Restoring model weights from the end of the best epoch: 2.\n",
      "Validation Accuracy: 0.6260\n",
      "Testing parameters: {'dropout_rate': 0.4, 'learning_rate': 0.0005, 'units': 32}\n",
      "Epoch 5: early stopping\n",
      "Restoring model weights from the end of the best epoch: 3.\n",
      "Validation Accuracy: 0.8010\n",
      "Testing parameters: {'dropout_rate': 0.4, 'learning_rate': 0.0005, 'units': 64}\n",
      "Epoch 5: early stopping\n",
      "Restoring model weights from the end of the best epoch: 3.\n",
      "Validation Accuracy: 0.6910\n",
      "\n",
      "Best Hyperparameters: {'dropout_rate': 0.2, 'learning_rate': 0.0005, 'units': 32}\n",
      "Best Validation Accuracy: 0.8050000071525574\n"
     ]
    }
   ],
   "source": [
    "\n",
    "# Hyperparameter tuning (use small subset for speed)\n",
    "for params in ParameterGrid(param_grid):\n",
    "    print(f\"Testing parameters: {params}\")\n",
    "    model = create_rnn_model(**params)\n",
    "    history = model.fit(\n",
    "        X_train[:5000], y_train[:5000],\n",
    "        epochs=10, batch_size=64, verbose=0,\n",
    "        validation_split=0.2,\n",
    "        callbacks=[early_stop]\n",
    "    )\n",
    "    val_acc = max(history.history['val_accuracy'])\n",
    "    print(f\"Validation Accuracy: {val_acc:.4f}\")\n",
    "    \n",
    "    if val_acc > best_acc:\n",
    "        best_acc = val_acc\n",
    "        best_params = params\n",
    "\n",
    "print(\"\\nBest Hyperparameters:\", best_params)\n",
    "print(\"Best Validation Accuracy:\", best_acc)\n"
   ]
  },
  {
   "cell_type": "code",
   "execution_count": 8,
   "id": "d4c1c292",
   "metadata": {},
   "outputs": [
    {
     "name": "stdout",
     "output_type": "stream",
     "text": [
      "Epoch 1/10\n",
      "\u001b[1m313/313\u001b[0m \u001b[32m━━━━━━━━━━━━━━━━━━━━\u001b[0m\u001b[37m\u001b[0m \u001b[1m23s\u001b[0m 63ms/step - accuracy: 0.6387 - loss: 0.6202 - val_accuracy: 0.7964 - val_loss: 0.4561\n",
      "Epoch 2/10\n",
      "\u001b[1m313/313\u001b[0m \u001b[32m━━━━━━━━━━━━━━━━━━━━\u001b[0m\u001b[37m\u001b[0m \u001b[1m19s\u001b[0m 61ms/step - accuracy: 0.8636 - loss: 0.3430 - val_accuracy: 0.8346 - val_loss: 0.3826\n",
      "Epoch 3/10\n",
      "\u001b[1m313/313\u001b[0m \u001b[32m━━━━━━━━━━━━━━━━━━━━\u001b[0m\u001b[37m\u001b[0m \u001b[1m20s\u001b[0m 63ms/step - accuracy: 0.9178 - loss: 0.2267 - val_accuracy: 0.8418 - val_loss: 0.3707\n",
      "Epoch 4/10\n",
      "\u001b[1m313/313\u001b[0m \u001b[32m━━━━━━━━━━━━━━━━━━━━\u001b[0m\u001b[37m\u001b[0m \u001b[1m24s\u001b[0m 76ms/step - accuracy: 0.9613 - loss: 0.1266 - val_accuracy: 0.8522 - val_loss: 0.3890\n",
      "Epoch 5/10\n",
      "\u001b[1m313/313\u001b[0m \u001b[32m━━━━━━━━━━━━━━━━━━━━\u001b[0m\u001b[37m\u001b[0m \u001b[1m21s\u001b[0m 67ms/step - accuracy: 0.9831 - loss: 0.0658 - val_accuracy: 0.8566 - val_loss: 0.4649\n",
      "Epoch 5: early stopping\n",
      "Restoring model weights from the end of the best epoch: 3.\n"
     ]
    },
    {
     "data": {
      "text/plain": [
       "<keras.src.callbacks.history.History at 0x1a4b728eff0>"
      ]
     },
     "execution_count": 8,
     "metadata": {},
     "output_type": "execute_result"
    }
   ],
   "source": [
    "\n",
    "# Train final model with early stopping\n",
    "final_model = create_rnn_model(**best_params)\n",
    "final_model.fit(\n",
    "    X_train, y_train,\n",
    "    epochs=10, batch_size=64, validation_split=0.2,\n",
    "    callbacks=[early_stop], verbose=1\n",
    ")\n"
   ]
  },
  {
   "cell_type": "code",
   "execution_count": 9,
   "id": "1ecb7040",
   "metadata": {},
   "outputs": [
    {
     "name": "stdout",
     "output_type": "stream",
     "text": [
      "\n",
      "Test Accuracy: 0.8449\n"
     ]
    }
   ],
   "source": [
    "\n",
    "# Evaluate on test data\n",
    "test_loss, test_acc = final_model.evaluate(X_test, y_test, verbose=0)\n",
    "print(f\"\\nTest Accuracy: {test_acc:.4f}\")\n"
   ]
  }
 ],
 "metadata": {
  "kernelspec": {
   "display_name": "base",
   "language": "python",
   "name": "python3"
  },
  "language_info": {
   "codemirror_mode": {
    "name": "ipython",
    "version": 3
   },
   "file_extension": ".py",
   "mimetype": "text/x-python",
   "name": "python",
   "nbconvert_exporter": "python",
   "pygments_lexer": "ipython3",
   "version": "3.12.7"
  }
 },
 "nbformat": 4,
 "nbformat_minor": 5
}
