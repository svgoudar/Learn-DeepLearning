{
 "cells": [
  {
   "cell_type": "markdown",
   "id": "ce14dd31",
   "metadata": {},
   "source": [
    "```{contents}\n",
    "```\n",
    "\n",
    "\n",
    "## Demonstration\n",
    "\n",
    "### Import Dependencies\n"
   ]
  },
  {
   "cell_type": "code",
   "execution_count": 8,
   "id": "6ae2fd16",
   "metadata": {},
   "outputs": [],
   "source": [
    "import numpy as np\n",
    "import tensorflow as tf\n",
    "from tensorflow.keras import datasets, layers, models\n",
    "from tensorflow.keras.optimizers import Adam\n",
    "from sklearn.model_selection import ParameterGrid\n",
    "import matplotlib.pyplot as plt\n"
   ]
  },
  {
   "cell_type": "markdown",
   "id": "a01778dc",
   "metadata": {},
   "source": [
    "\n",
    "\n",
    "---\n",
    "\n",
    "### Step 2 — Load and Preprocess the Dataset\n",
    "\n",
    "We’ll use the **MNIST** dataset (28×28 grayscale digits).\n",
    "\n"
   ]
  },
  {
   "cell_type": "code",
   "execution_count": 9,
   "id": "6850e2ff",
   "metadata": {},
   "outputs": [],
   "source": [
    "\n",
    "# Load data\n",
    "(X_train, y_train), (X_test, y_test) = datasets.mnist.load_data()\n",
    "\n",
    "# Normalize pixel values (0–255 → 0–1)\n",
    "X_train = X_train.astype('float32') / 255.0\n",
    "X_test = X_test.astype('float32') / 255.0\n",
    "\n",
    "# Reshape to fit CNN input (samples, height, width, channels)\n",
    "X_train = X_train.reshape(-1, 28, 28, 1)\n",
    "X_test = X_test.reshape(-1, 28, 28, 1)\n",
    "\n",
    "# One-hot encode labels\n",
    "y_train = tf.keras.utils.to_categorical(y_train, 10)\n",
    "y_test = tf.keras.utils.to_categorical(y_test, 10)\n"
   ]
  },
  {
   "cell_type": "code",
   "execution_count": 10,
   "id": "d5c6979e",
   "metadata": {},
   "outputs": [
    {
     "data": {
      "image/png": "[encoded data removed]",
      "text/plain": [
       "<Figure size 640x480 with 1 Axes>"
      ]
     },
     "metadata": {},
     "output_type": "display_data"
    }
   ],
   "source": [
    "plt.imshow(X_train[0].reshape(28, 28), cmap='gray')\n",
    "plt.title(f\"Label: {y_train[0].argmax()}\")\n",
    "plt.axis('off')\n",
    "plt.show()"
   ]
  },
  {
   "cell_type": "markdown",
   "id": "22909f0d",
   "metadata": {},
   "source": [
    "\n",
    "\n",
    "---\n",
    "\n",
    "### Define the CNN Model\n",
    "\n",
    "This is a **feedforward CNN** for image classification.\n",
    "\n"
   ]
  },
  {
   "cell_type": "code",
   "execution_count": 11,
   "id": "14625e24",
   "metadata": {},
   "outputs": [],
   "source": [
    "def create_cnn_model(filters=32, kernel_size=3, dropout_rate=0.3, learning_rate=0.001):\n",
    "    model = models.Sequential([\n",
    "        layers.Conv2D(filters, (kernel_size, kernel_size), activation='relu', input_shape=(28, 28, 1)),\n",
    "        layers.MaxPooling2D((2, 2)),\n",
    "        \n",
    "        layers.Conv2D(filters * 2, (kernel_size, kernel_size), activation='relu'),\n",
    "        layers.MaxPooling2D((2, 2)),\n",
    "        \n",
    "        layers.Flatten(),\n",
    "        layers.Dropout(dropout_rate),\n",
    "        layers.Dense(128, activation='relu'),\n",
    "        layers.Dense(10, activation='softmax')\n",
    "    ])\n",
    "    \n",
    "    model.compile(\n",
    "        optimizer=Adam(learning_rate=learning_rate),\n",
    "        loss='categorical_crossentropy',\n",
    "        metrics=['accuracy']\n",
    "    )\n",
    "    return model\n"
   ]
  },
  {
   "cell_type": "markdown",
   "id": "5bf8d463",
   "metadata": {},
   "source": [
    "\n",
    "\n",
    "---\n",
    "\n",
    "### Train the Base Model\n",
    "\n",
    "Train with standard hyperparameters first.\n",
    "\n"
   ]
  },
  {
   "cell_type": "code",
   "execution_count": 12,
   "id": "1188c710",
   "metadata": {},
   "outputs": [
    {
     "name": "stderr",
     "output_type": "stream",
     "text": [
      "C:\\Users\\sangouda\\AppData\\Roaming\\Python\\Python312\\site-packages\\keras\\src\\layers\\convolutional\\base_conv.py:113: UserWarning: Do not pass an `input_shape`/`input_dim` argument to a layer. When using Sequential models, prefer using an `Input(shape)` object as the first layer in the model instead.\n",
      "  super().__init__(activity_regularizer=activity_regularizer, **kwargs)\n"
     ]
    },
    {
     "name": "stdout",
     "output_type": "stream",
     "text": [
      "Epoch 1/10\n",
      "\u001b[1m750/750\u001b[0m \u001b[32m━━━━━━━━━━━━━━━━━━━━\u001b[0m\u001b[37m\u001b[0m \u001b[1m16s\u001b[0m 18ms/step - accuracy: 0.8602 - loss: 0.4524 - val_accuracy: 0.9802 - val_loss: 0.0685\n",
      "Epoch 2/10\n",
      "\u001b[1m750/750\u001b[0m \u001b[32m━━━━━━━━━━━━━━━━━━━━\u001b[0m\u001b[37m\u001b[0m \u001b[1m14s\u001b[0m 19ms/step - accuracy: 0.9780 - loss: 0.0696 - val_accuracy: 0.9871 - val_loss: 0.0464\n",
      "Epoch 3/10\n",
      "\u001b[1m750/750\u001b[0m \u001b[32m━━━━━━━━━━━━━━━━━━━━\u001b[0m\u001b[37m\u001b[0m \u001b[1m20s\u001b[0m 18ms/step - accuracy: 0.9856 - loss: 0.0453 - val_accuracy: 0.9872 - val_loss: 0.0426\n",
      "Epoch 4/10\n",
      "\u001b[1m750/750\u001b[0m \u001b[32m━━━━━━━━━━━━━━━━━━━━\u001b[0m\u001b[37m\u001b[0m \u001b[1m14s\u001b[0m 19ms/step - accuracy: 0.9882 - loss: 0.0362 - val_accuracy: 0.9894 - val_loss: 0.0359\n",
      "Epoch 5/10\n",
      "\u001b[1m750/750\u001b[0m \u001b[32m━━━━━━━━━━━━━━━━━━━━\u001b[0m\u001b[37m\u001b[0m \u001b[1m14s\u001b[0m 18ms/step - accuracy: 0.9909 - loss: 0.0278 - val_accuracy: 0.9897 - val_loss: 0.0390\n",
      "Epoch 6/10\n",
      "\u001b[1m750/750\u001b[0m \u001b[32m━━━━━━━━━━━━━━━━━━━━\u001b[0m\u001b[37m\u001b[0m \u001b[1m16s\u001b[0m 21ms/step - accuracy: 0.9922 - loss: 0.0252 - val_accuracy: 0.9890 - val_loss: 0.0375\n",
      "Epoch 7/10\n",
      "\u001b[1m750/750\u001b[0m \u001b[32m━━━━━━━━━━━━━━━━━━━━\u001b[0m\u001b[37m\u001b[0m \u001b[1m14s\u001b[0m 18ms/step - accuracy: 0.9922 - loss: 0.0227 - val_accuracy: 0.9916 - val_loss: 0.0319\n",
      "Epoch 8/10\n",
      "\u001b[1m750/750\u001b[0m \u001b[32m━━━━━━━━━━━━━━━━━━━━\u001b[0m\u001b[37m\u001b[0m \u001b[1m13s\u001b[0m 17ms/step - accuracy: 0.9941 - loss: 0.0181 - val_accuracy: 0.9913 - val_loss: 0.0345\n",
      "Epoch 9/10\n",
      "\u001b[1m750/750\u001b[0m \u001b[32m━━━━━━━━━━━━━━━━━━━━\u001b[0m\u001b[37m\u001b[0m \u001b[1m13s\u001b[0m 17ms/step - accuracy: 0.9955 - loss: 0.0142 - val_accuracy: 0.9895 - val_loss: 0.0393\n",
      "Epoch 10/10\n",
      "\u001b[1m750/750\u001b[0m \u001b[32m━━━━━━━━━━━━━━━━━━━━\u001b[0m\u001b[37m\u001b[0m \u001b[1m12s\u001b[0m 17ms/step - accuracy: 0.9959 - loss: 0.0124 - val_accuracy: 0.9918 - val_loss: 0.0331\n"
     ]
    }
   ],
   "source": [
    "\n",
    "model = create_cnn_model()\n",
    "history = model.fit(\n",
    "    X_train, y_train,\n",
    "    validation_split=0.2,\n",
    "    epochs=10,\n",
    "    batch_size=64,\n",
    "    verbose=1\n",
    ")\n"
   ]
  },
  {
   "cell_type": "markdown",
   "id": "f275907e",
   "metadata": {},
   "source": [
    "\n",
    "\n",
    "### Evaluate on Test Data\n"
   ]
  },
  {
   "cell_type": "code",
   "execution_count": null,
   "id": "37dbae72",
   "metadata": {},
   "outputs": [],
   "source": [
    "test_loss, test_acc = model.evaluate(X_test, y_test, verbose=0)\n",
    "print(f\"Test Accuracy: {test_acc:.4f}\")\n"
   ]
  },
  {
   "cell_type": "markdown",
   "id": "4fd3655c",
   "metadata": {},
   "source": [
    "\n",
    "\n",
    "---\n",
    "\n",
    "### Hyperparameter Tuning (Manual Search)\n",
    "\n",
    "You can manually tune filters, dropout, and learning rate to improve results.\n",
    "\n"
   ]
  },
  {
   "cell_type": "code",
   "execution_count": 16,
   "id": "d0599ce0",
   "metadata": {},
   "outputs": [
    {
     "name": "stdout",
     "output_type": "stream",
     "text": [
      "Testing {'dropout_rate': 0.3, 'filters': 32, 'kernel_size': 3, 'learning_rate': 0.001}\n"
     ]
    },
    {
     "name": "stderr",
     "output_type": "stream",
     "text": [
      "C:\\Users\\sangouda\\AppData\\Roaming\\Python\\Python312\\site-packages\\keras\\src\\layers\\convolutional\\base_conv.py:113: UserWarning: Do not pass an `input_shape`/`input_dim` argument to a layer. When using Sequential models, prefer using an `Input(shape)` object as the first layer in the model instead.\n",
      "  super().__init__(activity_regularizer=activity_regularizer, **kwargs)\n"
     ]
    },
    {
     "name": "stdout",
     "output_type": "stream",
     "text": [
      "Accuracy: 0.9645\n",
      "Testing {'dropout_rate': 0.3, 'filters': 32, 'kernel_size': 3, 'learning_rate': 0.0005}\n",
      "Accuracy: 0.9510\n",
      "Testing {'dropout_rate': 0.3, 'filters': 64, 'kernel_size': 3, 'learning_rate': 0.001}\n",
      "Accuracy: 0.9655\n",
      "Testing {'dropout_rate': 0.3, 'filters': 64, 'kernel_size': 3, 'learning_rate': 0.0005}\n",
      "Accuracy: 0.9565\n",
      "✅ Best Hyperparameters: {'dropout_rate': 0.3, 'filters': 64, 'kernel_size': 3, 'learning_rate': 0.001}\n",
      "✅ Best Accuracy: 0.9655\n"
     ]
    }
   ],
   "source": [
    "from sklearn.model_selection import ParameterGrid\n",
    "import random\n",
    "\n",
    "# Use a smaller subset for quick tuning\n",
    "sample_idx = random.sample(range(len(X_train)), 10000)  # 10k samples instead of 60k\n",
    "X_train_small = X_train[sample_idx]\n",
    "y_train_small = y_train[sample_idx]\n",
    "\n",
    "from tensorflow.keras.callbacks import EarlyStopping\n",
    "\n",
    "early_stop = EarlyStopping(monitor='val_loss', patience=2, restore_best_weights=True)\n",
    "\n",
    "\n",
    "# Define a smaller parameter grid\n",
    "param_grid = {\n",
    "    'filters': [32, 64],           # fewer values\n",
    "    'kernel_size': [3],            # fixed kernel size\n",
    "    'dropout_rate': [0.3],         # fixed dropout\n",
    "    'learning_rate': [0.001, 0.0005]\n",
    "}\n",
    "\n",
    "best_acc = 0\n",
    "best_params = {}\n",
    "\n",
    "# Run fewer epochs and use validation split\n",
    "for params in ParameterGrid(param_grid):\n",
    "    print(f\"Testing {params}\")\n",
    "    model = create_cnn_model(**params)\n",
    "    \n",
    "    model.fit(\n",
    "        X_train_small, y_train_small,\n",
    "        validation_split=0.1,\n",
    "        epochs=3,                   # reduced from 5\n",
    "        batch_size=128,             # larger batch size\n",
    "        verbose=0,\n",
    "        callbacks=[early_stop]\n",
    "    )\n",
    "    \n",
    "    _, acc = model.evaluate(X_test[:2000], y_test[:2000], verbose=0)  # evaluate on subset\n",
    "    print(f\"Accuracy: {acc:.4f}\")\n",
    "    \n",
    "    if acc > best_acc:\n",
    "        best_acc = acc\n",
    "        best_params = params\n",
    "\n",
    "print(\"✅ Best Hyperparameters:\", best_params)\n",
    "print(f\"✅ Best Accuracy: {best_acc:.4f}\")\n"
   ]
  },
  {
   "cell_type": "markdown",
   "id": "4b309a30",
   "metadata": {},
   "source": [
    "\n",
    "\n",
    "---\n",
    "\n",
    "### Training Visualization\n",
    "\n",
    "Compare training and validation performance.\n",
    "\n"
   ]
  },
  {
   "cell_type": "code",
   "execution_count": 17,
   "id": "59148506",
   "metadata": {},
   "outputs": [
    {
     "data": {
      "image/png": "[encoded data removed]",
      "text/plain": [
       "<Figure size 1000x400 with 1 Axes>"
      ]
     },
     "metadata": {},
     "output_type": "display_data"
    }
   ],
   "source": [
    "plt.figure(figsize=(10, 4))\n",
    "plt.plot(history.history['accuracy'], label='Training Accuracy')\n",
    "plt.plot(history.history['val_accuracy'], label='Validation Accuracy')\n",
    "plt.xlabel('Epochs')\n",
    "plt.ylabel('Accuracy')\n",
    "plt.legend()\n",
    "plt.title('CNN Training vs Validation Accuracy')\n",
    "plt.show()\n"
   ]
  },
  {
   "cell_type": "markdown",
   "id": "f9a3c579",
   "metadata": {},
   "source": [
    "\n",
    "### CNN Workflow Summary\n",
    "\n",
    "| Step | Process                  | Purpose                            |\n",
    "| ---- | ------------------------ | ---------------------------------- |\n",
    "| 1    | Load and preprocess data | Normalize and reshape              |\n",
    "| 2    | Build CNN                | Define conv, pooling, dense layers |\n",
    "| 3    | Compile                  | Specify optimizer and loss         |\n",
    "| 4    | Train                    | Fit model on data                  |\n",
    "| 5    | Evaluate                 | Test accuracy                      |\n",
    "| 6    | Tune                     | Optimize hyperparameters           |\n",
    "| 7    | Visualize                | Track accuracy/loss trends         |\n",
    "\n",
    "---\n"
   ]
  },
  {
   "cell_type": "markdown",
   "id": "9073873a",
   "metadata": {},
   "source": [
    "\n",
    "### Key CNN Components\n",
    "\n",
    "| Layer            | Function                                         |\n",
    "| ---------------- | ------------------------------------------------ |\n",
    "| **Conv2D**       | Extracts spatial features (edges, textures)      |\n",
    "| **MaxPooling2D** | Reduces spatial dimensions                       |\n",
    "| **Dropout**      | Prevents overfitting by disabling random neurons |\n",
    "| **Flatten**      | Converts 2D matrix → 1D vector                   |\n",
    "| **Dense**        | Fully connected output layer                     |\n",
    "| **Softmax**      | Converts logits into probability distribution    |\n",
    "\n",
    "---\n",
    "\n",
    "### Common CNN Hyperparameters to Tune\n",
    "\n",
    "| Hyperparameter | Effect                    | Typical Range |\n",
    "| -------------- | ------------------------- | ------------- |\n",
    "| Filters        | Feature extraction depth  | 16–128        |\n",
    "| Kernel Size    | Receptive field           | 3×3 or 5×5    |\n",
    "| Dropout Rate   | Regularization            | 0.2–0.5       |\n",
    "| Learning Rate  | Weight update step size   | 1e-4 to 1e-2  |\n",
    "| Batch Size     | Samples per gradient step | 32–128        |\n",
    "| Epochs         | Number of training passes | 10–50         |\n",
    "\n",
    "---\n",
    "\n",
    "### Insights\n",
    "\n",
    "* **Dropout** combats overfitting by regularizing dense layers.\n",
    "* **Adam optimizer** provides adaptive learning rate.\n",
    "* **Batch normalization** (optional) can stabilize training.\n",
    "* **Early stopping** halts when validation loss stops improving.\n",
    "\n",
    "---\n",
    "\n",
    "**Final Takeaway**\n",
    "\n",
    "> CNNs learn **spatial hierarchies of features** using convolution + pooling layers.\n",
    "> Training involves minimizing **cross-entropy loss**, and **hyperparameter tuning** refines model depth, learning rate, and regularization strength for best generalization.\n",
    "\n"
   ]
  },
  {
   "cell_type": "markdown",
   "id": "dda03529",
   "metadata": {},
   "source": []
  }
 ],
 "metadata": {
  "kernelspec": {
   "display_name": "base",
   "language": "python",
   "name": "python3"
  },
  "language_info": {
   "codemirror_mode": {
    "name": "ipython",
    "version": 3
   },
   "file_extension": ".py",
   "mimetype": "text/x-python",
   "name": "python",
   "nbconvert_exporter": "python",
   "pygments_lexer": "ipython3",
   "version": "3.12.7"
  }
 },
 "nbformat": 4,
 "nbformat_minor": 5
}
